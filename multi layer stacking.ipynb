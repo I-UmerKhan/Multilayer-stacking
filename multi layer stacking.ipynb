{
 "cells": [
  {
   "cell_type": "code",
   "execution_count": 1,
   "id": "a62addb5",
   "metadata": {},
   "outputs": [
    {
     "name": "stdout",
     "output_type": "stream",
     "text": [
      "Model accuracy: 0.8800\n"
     ]
    }
   ],
   "source": [
    "import numpy as np\n",
    "from sklearn.datasets import make_classification\n",
    "from sklearn.model_selection import train_test_split\n",
    "from sklearn.ensemble import StackingClassifier, RandomForestClassifier, GradientBoostingClassifier\n",
    "from sklearn.linear_model import LogisticRegression\n",
    "from sklearn.svm import SVC\n",
    "\n",
    "# Generate a random dataset\n",
    "X, y = make_classification(n_samples=1000, n_features=20, random_state=42)\n",
    "\n",
    "# Split the dataset into training and testing sets\n",
    "X_train, X_test, y_train, y_test = train_test_split(X, y, test_size=0.2, random_state=42)\n",
    "\n",
    "# Define base models for the first layer\n",
    "base_layer_1 = [\n",
    "    ('rf_1', RandomForestClassifier(n_estimators=10, random_state=42)),\n",
    "    ('rf_2', RandomForestClassifier(n_estimators=20, random_state=42)),\n",
    "    ('gb_1', GradientBoostingClassifier(n_estimators=10, random_state=42)),\n",
    "    ('gb_2', GradientBoostingClassifier(n_estimators=20, random_state=42))\n",
    "]\n",
    "\n",
    "# Define base models for the second layer\n",
    "base_layer_2 = [\n",
    "    ('svc_1', StackingClassifier(estimators=base_layer_1, final_estimator=LogisticRegression())),\n",
    "    ('rf_3', StackingClassifier(estimators=base_layer_1, final_estimator=RandomForestClassifier(n_estimators=10, random_state=42))),\n",
    "    ('gb_3', StackingClassifier(estimators=base_layer_1, final_estimator=GradientBoostingClassifier(n_estimators=10, random_state=42)))\n",
    "]\n",
    "\n",
    "# Define base models for the third layer\n",
    "base_layer_3 = [\n",
    "    ('svc_2', StackingClassifier(estimators=base_layer_2, final_estimator=SVC())),\n",
    "    ('rf_4', StackingClassifier(estimators=base_layer_2, final_estimator=RandomForestClassifier(n_estimators=20, random_state=42)))\n",
    "]\n",
    "\n",
    "# Define the final meta model\n",
    "meta_model = LogisticRegression()\n",
    "\n",
    "# Create the final stacking classifier\n",
    "stacking_model = StackingClassifier(\n",
    "    estimators=base_layer_3,\n",
    "    final_estimator=meta_model\n",
    ")\n",
    "\n",
    "# Train the model\n",
    "stacking_model.fit(X_train, y_train)\n",
    "\n",
    "# Evaluate the model\n",
    "accuracy = stacking_model.score(X_test, y_test)\n",
    "print(f\"Model accuracy: {accuracy:.4f}\")\n"
   ]
  },
  {
   "cell_type": "code",
   "execution_count": null,
   "id": "44101901",
   "metadata": {},
   "outputs": [],
   "source": []
  }
 ],
 "metadata": {
  "kernelspec": {
   "display_name": "Python 3 (ipykernel)",
   "language": "python",
   "name": "python3"
  },
  "language_info": {
   "codemirror_mode": {
    "name": "ipython",
    "version": 3
   },
   "file_extension": ".py",
   "mimetype": "text/x-python",
   "name": "python",
   "nbconvert_exporter": "python",
   "pygments_lexer": "ipython3",
   "version": "3.9.13"
  }
 },
 "nbformat": 4,
 "nbformat_minor": 5
}
